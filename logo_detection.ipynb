{
  "nbformat": 4,
  "nbformat_minor": 0,
  "metadata": {
    "colab": {
      "provenance": [],
      "authorship_tag": "ABX9TyPuKOsD9kkxsiq3v2GwL1Ck",
      "include_colab_link": true
    },
    "kernelspec": {
      "name": "python3",
      "display_name": "Python 3"
    },
    "language_info": {
      "name": "python"
    }
  },
  "cells": [
    {
      "cell_type": "markdown",
      "metadata": {
        "id": "view-in-github",
        "colab_type": "text"
      },
      "source": [
        "<a href=\"https://colab.research.google.com/github/oleeejka/logo_detection/blob/main/logo_detection.ipynb\" target=\"_parent\"><img src=\"https://colab.research.google.com/assets/colab-badge.svg\" alt=\"Open In Colab\"/></a>"
      ]
    },
    {
      "cell_type": "markdown",
      "source": [
        "Сначала создаем и обучаем модель классификации."
      ],
      "metadata": {
        "id": "JSy9Pht1xCtZ"
      }
    },
    {
      "cell_type": "code",
      "source": [
        "import gdown\n",
        "import zipfile\n",
        "import os\n",
        "from sklearn.model_selection import train_test_split\n",
        "import torch\n",
        "import torch.nn as nn\n",
        "import torch.optim as optim\n",
        "from torchvision import models, datasets, transforms\n",
        "from torch.utils.data import DataLoader, Subset\n",
        "import cv2"
      ],
      "metadata": {
        "id": "D99D5PrIw-h7"
      },
      "execution_count": 29,
      "outputs": []
    },
    {
      "cell_type": "markdown",
      "source": [
        "Загружаем датасет LogoDet-3K из архива. Датасет в виде архива сохранен на моем Google Drive."
      ],
      "metadata": {
        "id": "_k6RUNp0yK8a"
      }
    },
    {
      "cell_type": "code",
      "source": [
        "url = f'https://drive.google.com/uc?id=1uiKeHsd5hJeMX7hHZvozxTDrGn8UE3Eu'\n",
        "output = 'logodet-3k.zip'\n",
        "\n",
        "gdown.download(url, output, quiet=False)\n",
        "\n",
        "with zipfile.ZipFile(output, 'r') as zip_ref:\n",
        "        zip_ref.extractall('data/logos')\n",
        "\n",
        "os.remove(output)"
      ],
      "metadata": {
        "colab": {
          "base_uri": "https://localhost:8080/"
        },
        "id": "dq_C-cF8KR0y",
        "outputId": "0351813d-e6e4-4188-fd0b-a37d8e83bf5e"
      },
      "execution_count": 30,
      "outputs": [
        {
          "output_type": "stream",
          "name": "stderr",
          "text": [
            "Downloading...\n",
            "From (original): https://drive.google.com/uc?id=1uiKeHsd5hJeMX7hHZvozxTDrGn8UE3Eu\n",
            "From (redirected): https://drive.google.com/uc?id=1uiKeHsd5hJeMX7hHZvozxTDrGn8UE3Eu&confirm=t&uuid=c6e08cbe-a913-4ed4-813d-dcdb160ca5ca\n",
            "To: /content/logodet-3k.zip\n",
            "100%|██████████| 3.08G/3.08G [00:49<00:00, 62.5MB/s]\n"
          ]
        }
      ]
    },
    {
      "cell_type": "code",
      "source": [
        "transform = transforms.Compose([\n",
        "    transforms.Resize((224, 224)),\n",
        "    transforms.ToTensor()\n",
        "])"
      ],
      "metadata": {
        "id": "rJZRcsKBKR9u"
      },
      "execution_count": 31,
      "outputs": []
    },
    {
      "cell_type": "code",
      "source": [
        "data_dir = 'data/logos/LogoDet-3K'\n",
        "\n",
        "dataset = datasets.ImageFolder(data_dir, transform=transform)"
      ],
      "metadata": {
        "id": "81Gx2YuuKSBS"
      },
      "execution_count": 32,
      "outputs": []
    },
    {
      "cell_type": "markdown",
      "source": [
        "Разделяем датасет на обучающую и тестовую выборки"
      ],
      "metadata": {
        "id": "dguF2k6yKquy"
      }
    },
    {
      "cell_type": "code",
      "source": [
        "train_indices, val_indices = train_test_split(\n",
        "    range(len(dataset)),\n",
        "    test_size=0.2,\n",
        "    stratify=dataset.targets,\n",
        "    random_state=42\n",
        ")\n",
        "\n",
        "train_dataset = Subset(dataset, train_indices)\n",
        "val_dataset = Subset(dataset, val_indices)"
      ],
      "metadata": {
        "id": "vDAW7OK6KSD7"
      },
      "execution_count": 33,
      "outputs": []
    },
    {
      "cell_type": "markdown",
      "source": [
        "Создаем DataLoader"
      ],
      "metadata": {
        "id": "7cczCHDYKzYH"
      }
    },
    {
      "cell_type": "code",
      "source": [
        "train_loader = DataLoader(train_dataset, batch_size=32, shuffle=True)\n",
        "val_loader = DataLoader(val_dataset, batch_size=32, shuffle=False)"
      ],
      "metadata": {
        "id": "wUM6vfrbKSG4"
      },
      "execution_count": 34,
      "outputs": []
    },
    {
      "cell_type": "markdown",
      "source": [
        "Обучаем модель классификации. Я использовал модель ResNet."
      ],
      "metadata": {
        "id": "ziNwEWy30tmn"
      }
    },
    {
      "cell_type": "code",
      "source": [
        "# Преобразуем изображение для классификации\n",
        "transform = transforms.Compose([\n",
        "    transforms.Resize((224, 224)),\n",
        "    transforms.ToTensor(),\n",
        "    transforms.Normalize(mean=[0.485, 0.456, 0.406], std=[0.229, 0.224, 0.225]),\n",
        "])"
      ],
      "metadata": {
        "id": "KPnrypFoCS56"
      },
      "execution_count": 35,
      "outputs": []
    },
    {
      "cell_type": "code",
      "source": [
        "model_classifier = models.resnet50(pretrained=True)\n",
        "model_classifier.fc = nn.Linear(model_classifier.fc.in_features, len(dataset.classes))"
      ],
      "metadata": {
        "id": "rLX5rXNSCTIe",
        "colab": {
          "base_uri": "https://localhost:8080/"
        },
        "outputId": "cc9ed51c-7c02-408a-b20d-f4ba34e06af5"
      },
      "execution_count": 36,
      "outputs": [
        {
          "output_type": "stream",
          "name": "stderr",
          "text": [
            "/usr/local/lib/python3.11/dist-packages/torchvision/models/_utils.py:208: UserWarning: The parameter 'pretrained' is deprecated since 0.13 and may be removed in the future, please use 'weights' instead.\n",
            "  warnings.warn(\n",
            "/usr/local/lib/python3.11/dist-packages/torchvision/models/_utils.py:223: UserWarning: Arguments other than a weight enum or `None` for 'weights' are deprecated since 0.13 and may be removed in the future. The current behavior is equivalent to passing `weights=ResNet50_Weights.IMAGENET1K_V1`. You can also use `weights=ResNet50_Weights.DEFAULT` to get the most up-to-date weights.\n",
            "  warnings.warn(msg)\n"
          ]
        }
      ]
    },
    {
      "cell_type": "code",
      "source": [
        "criterion = nn.CrossEntropyLoss()\n",
        "optimizer = optim.Adam(model_classifier.parameters(), lr=0.001)"
      ],
      "metadata": {
        "id": "NDzPZem3CbHZ"
      },
      "execution_count": 37,
      "outputs": []
    },
    {
      "cell_type": "code",
      "source": [
        "num_epochs = 10\n",
        "for epoch in range(num_epochs):\n",
        "    model_classifier.train()\n",
        "    running_loss = 0.0\n",
        "    for inputs, labels in train_loader:\n",
        "        optimizer.zero_grad()\n",
        "        outputs = model_classifier(inputs)\n",
        "        loss = criterion(outputs, labels)\n",
        "        loss.backward()\n",
        "        optimizer.step()\n",
        "        running_loss += loss.item()\n",
        "    print(f\"Epoch {epoch+1}/{num_epochs}, Loss: {running_loss/len(train_loader)}\")"
      ],
      "metadata": {
        "id": "rdAQ2TJkCbRu"
      },
      "execution_count": null,
      "outputs": []
    },
    {
      "cell_type": "markdown",
      "source": [
        "Сохраняем модель"
      ],
      "metadata": {
        "id": "03Ienk_SCk68"
      }
    },
    {
      "cell_type": "code",
      "source": [
        "torch.save(model_classifier.state_dict(), 'models/logo_classifier.pth')"
      ],
      "metadata": {
        "id": "D2Hx3oDFChwL"
      },
      "execution_count": null,
      "outputs": []
    },
    {
      "cell_type": "markdown",
      "source": [
        "Используем обученную модель для получения предсказания"
      ],
      "metadata": {
        "id": "dagQ0wuj9V7A"
      }
    },
    {
      "cell_type": "code",
      "source": [
        "model_classifier = models.resnet50(pretrained=True)\n",
        "model_classifier.fc = nn.Linear(model_classifier.fc.in_features, 2)  # 2 класса: логотип искомой организации и не логотип\n",
        "model_classifier.load_state_dict(torch.load('models/logo_classifier.pth'))\n",
        "model_classifier.eval()"
      ],
      "metadata": {
        "id": "a3PzoP1IDrLJ"
      },
      "execution_count": null,
      "outputs": []
    },
    {
      "cell_type": "code",
      "source": [
        "# Преобразуем изображение для классификации\n",
        "preprocess = transforms.Compose([\n",
        "    transforms.ToPILImage(),\n",
        "    transforms.Resize((224, 224)),\n",
        "    transforms.ToTensor(),\n",
        "    transforms.Normalize(mean=[0.485, 0.456, 0.406], std=[0.229, 0.224, 0.225]),\n",
        "])\n"
      ],
      "metadata": {
        "id": "7jiq8aIGDrTr"
      },
      "execution_count": null,
      "outputs": []
    },
    {
      "cell_type": "code",
      "source": [
        "def classify_logo(image):\n",
        "    image = preprocess(image).unsqueeze(0)\n",
        "    with torch.no_grad():\n",
        "        prediction = model_classifier(image)\n",
        "    return torch.argmax(prediction)"
      ],
      "metadata": {
        "id": "M-Pi1HfMDrcv"
      },
      "execution_count": null,
      "outputs": []
    },
    {
      "cell_type": "code",
      "source": [
        "import cv2\n",
        "image = cv2.imread('path/to/logo/image.jpg')\n",
        "result = classify_logo(image)\n",
        "print(f\"Classification result: {result}\")"
      ],
      "metadata": {
        "id": "auPhM3PSw_sX"
      },
      "execution_count": null,
      "outputs": []
    }
  ]
}